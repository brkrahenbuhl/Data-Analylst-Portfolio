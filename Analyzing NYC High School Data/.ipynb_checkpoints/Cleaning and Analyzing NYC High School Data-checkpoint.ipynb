{
 "cells": [
  {
   "cell_type": "markdown",
   "metadata": {},
   "source": [
    "# Analyzing New York City High School SAT Scores\n",
    "\n",
    "## Executive Summary\n",
    "\n",
    "This analysis explores the correlation between the average SAT score for New York City High Schools for the 2012 graduating class with a number of factors about the schools and the students in them. These factors include race, school total enrollment, average class size, gender, AP Test information, and safety ratings gathered from a survey. Investigating these factors outlined the structural disparate outcomes between schools in the New York City school system, much of which is by design through the specialized and magnet school framework the city uses. Beyond these structural differences, both race and school/class size stood out as strongly correlated with SAT scores. The percent of White or Asian students in a given school was positively correlated with SAT outcomes, while the percent of Black or Hispanic students was negatively correlated. Both a school's total enrollment and average class size were positively correlated with SAT scores, meaning that larger schools tended to perform better on the test. Moving forward, we recommend further researching the SAT's equivalence with academic success we assumed in this analysis, investigating the correlation between class size and average school SAT score further as we interpret this trend as potentially actionable for all schools across New York City, and searching for more granular school safety data to better understand how school safety may affect academic outcomes."
   ]
  },
  {
   "cell_type": "markdown",
   "metadata": {},
   "source": [
    "## Introduction\n",
    "\n",
    "The SAT, formerly known as the Scholastic Assessment test but now simply known as the SAT, is a standardized test used widely throughout the United States as part of the college admission test process. An SAT score is meant to give admissions officers a metric that is more easily comparable across schools and regions to assess a given student's readiness for the challenges of university. As a strong SAT score can change a young person's life for better or worse, gaining insight into the factors that are most correlated with high or low SAT scores is valuable. With such analysis we can begin to understand where we should be targeting efforts to improve education and social determinants of health to achieve improved outcomes for the children of all communities. We will note that the SAT and similar standardized tests are controversial in that some believe the tests themselves serve to perpetuate inequality and reduce admissions for disadvantaged college applicants; the data we are analyzing does not allow us to investigate this question directly, but we can provide observations to investigate further.\n",
    "\n",
    "The New York City school district, the largest district in the US, offers a rich dataset because its schools cross a spectrum of socioeconomic factors. Additionally the government tracks a substantial amount of data about its schools and publishes the data publicly, allowing us the access for robust analysis.\n",
    "\n",
    "## Dataset\n",
    "\n",
    "The New York City government publishes data of all kinds about the city as part of it's NYC Open Data project, available at https://opendata.cityofnewyork.us/. In this analysis, we will be focusing on public school data from the early 2010s. Upon researching available data we discovered that the specific datasets we are interested in are not available every year. While this is a consideration to keep in mind when drilling down into specific schools, we're comfortable moving forward joining data that doesn't correspond to the exact same year.\n",
    "\n",
    "The specific datasets are as follows:\n",
    "\n",
    "[SAT Scores by School](https://data.cityofnewyork.us/Education/2012-SAT-Results/f9bf-2cp4): Mean scores of each section of the SAT by school for the 2012 graduating class.\n",
    "\n",
    "[School Attendance](https://data.cityofnewyork.us/Education/2010-2011-School-Attendance-and-Enrollment-Statist/7z8d-msnt): School attendance and enrollment statistics per school for the 2011 school year.\n",
    "\n",
    "[Class Size](https://data.cityofnewyork.us/Education/2010-2011-Class-Size-School-level-detail/urz7-pzb3): Class size per school and grade from January 2011.\n",
    "\n",
    "[AP Scores by School](https://data.cityofnewyork.us/Education/2010-AP-College-Board-School-Level-Results/itfs-ms3e): 2010 College Board Advanced Placement (AP) Test results per school. The number of scores that are considered passing, 3 or higher on a scale of 1 to 5, are tracked.\n",
    "\n",
    "[Graduation Outcomes](https://data.cityofnewyork.us/Education/2005-2010-Graduation-Outcomes-School-Level/vh2h-md7a): High school graduation outcomes from 2001 to 2006.\n",
    "\n",
    "[Demographics](https://data.cityofnewyork.us/Education/2006-2012-School-Demographics-and-Accountability-S/ihfw-zy9j): Student demographic data per school from 2006 to 2012.\n",
    "\n",
    "Last, we included survey results from the [2011 NYC School Survey](https://data.cityofnewyork.us/Education/2011-NYC-School-Survey/mnz3-dyi8), a wide-ranging annual survey where all NYC public school students, parents, and teachers in grades 6-12 answer questions to help school leaders understand feedback from the community.\n",
    "\n",
    "All of the individual data files are linked by a District Borough Number (DBN) column, where the value is the combination of a district number, a letter representing the school's borough, and a school number. DBN values uniquely identify each school in the New York City system."
   ]
  },
  {
   "cell_type": "markdown",
   "metadata": {},
   "source": [
    "## Data Cleaning\n",
    "\n",
    "### Reading and Combining Data\n",
    "\n",
    "The first task is to read in the source data files and investigate columns that may need to be cleaned. We'll be using Python along with the Pandas and Matplotlib modules for this analysis. First, we'll create a dictionary containing pandas DataFrames from all of the csv files to bring that data into one data structure, then build a second DataFrame with survey data. We'll exclude a handful of columns from the survey data that were not relevant for this analysis to improve performance."
   ]
  },
  {
   "cell_type": "code",
   "execution_count": 1,
   "metadata": {},
   "outputs": [],
   "source": [
    "# Import modules\n",
    "import pandas as pd\n",
    "import numpy\n",
    "import re\n",
    "import matplotlib.pyplot as plt\n",
    "%matplotlib inline\n",
    "\n",
    "# Read in data\n",
    "data_files = [\n",
    "    \"sat_results.csv\",\n",
    "    \"ap_2010.csv\",\n",
    "    \"class_size.csv\",\n",
    "    \"demographics.csv\",\n",
    "    \"graduation.csv\",\n",
    "    \"hs_directory.csv\"\n",
    "]\n",
    "\n",
    "data = {}\n",
    "\n",
    "for f in data_files:\n",
    "    d = pd.read_csv(\"schools/{0}\".format(f))\n",
    "    data[f.replace(\".csv\", \"\")] = d"
   ]
  },
  {
   "cell_type": "code",
   "execution_count": 2,
   "metadata": {},
   "outputs": [],
   "source": [
    "all_survey = pd.read_csv(\"schools/survey_all.txt\", delimiter=\"\\t\", encoding='windows-1252')\n",
    "d75_survey = pd.read_csv(\"schools/survey_d75.txt\", delimiter=\"\\t\", encoding='windows-1252')\n",
    "survey = pd.concat([all_survey, d75_survey], axis=0)\n",
    "\n",
    "# Change column case to align with other DataFrames\n",
    "survey.rename(columns={\"dbn\":\"DBN\"}, inplace = True)\n",
    "\n",
    "# Bring down relevant columns\n",
    "survey_fields = [\n",
    "    \"DBN\", \n",
    "    \"rr_s\", \n",
    "    \"rr_t\", \n",
    "    \"rr_p\", \n",
    "    \"N_s\", \n",
    "    \"N_t\", \n",
    "    \"N_p\", \n",
    "    \"saf_p_11\", \n",
    "    \"com_p_11\", \n",
    "    \"eng_p_11\", \n",
    "    \"aca_p_11\", \n",
    "    \"saf_t_11\", \n",
    "    \"com_t_11\", \n",
    "    \"eng_t_11\", \n",
    "    \"aca_t_11\", \n",
    "    \"saf_s_11\", \n",
    "    \"com_s_11\", \n",
    "    \"eng_s_11\", \n",
    "    \"aca_s_11\", \n",
    "    \"saf_tot_11\", \n",
    "    \"com_tot_11\", \n",
    "    \"eng_tot_11\", \n",
    "    \"aca_tot_11\",\n",
    "]\n",
    "survey = survey.loc[:,survey_fields]\n",
    "data[\"survey\"] = survey"
   ]
  },
  {
   "cell_type": "markdown",
   "metadata": {},
   "source": [
    "Before we can combine all the data into a single dataframe there is more cleaning we must perform. Upon investigation the hs_directory file has its DBN column lowercase, while other files have it uppercase, so we need to align column names. Additionally, the class_size file doesn't have a DBN column, but it has the parts of the DBN identifier in other columns, notably the CSD (Community School District) value, so we can create  this column manually."
   ]
  },
  {
   "cell_type": "code",
   "execution_count": 3,
   "metadata": {},
   "outputs": [],
   "source": [
    "data[\"hs_directory\"][\"DBN\"] = data[\"hs_directory\"][\"dbn\"]\n",
    "\n",
    "def pad_csd(num):\n",
    "    string_representation = str(num)\n",
    "    if len(string_representation) > 1:\n",
    "        return string_representation\n",
    "    else:\n",
    "        return \"0\" + string_representation\n",
    "    \n",
    "data[\"class_size\"][\"padded_csd\"] = data[\"class_size\"][\"CSD\"].apply(pad_csd)\n",
    "data[\"class_size\"][\"DBN\"] = data[\"class_size\"][\"padded_csd\"] + data[\"class_size\"][\"SCHOOL CODE\"]"
   ]
  },
  {
   "cell_type": "markdown",
   "metadata": {},
   "source": [
    "The next cleaning step is to reduce the rows in three of the datasets to match the constraints of our analysis. First, since we are focusing on SAT scores for our analysis we will remove any schools from the SAT dataset that don't have numeric score data. Additionally, we are only reviewing high school data and using the 2011-2012 school year (where possible). The graduation dataset specifically breaks out rows into specific demographics such as male or female, so we limit the data to only rows representing entire school cohorts."
   ]
  },
  {
   "cell_type": "code",
   "execution_count": 4,
   "metadata": {},
   "outputs": [
    {
     "name": "stdout",
     "output_type": "stream",
     "text": [
      "2006 Aug    4131\n",
      "2006        4130\n",
      "2005        3963\n",
      "2004        3708\n",
      "2003        3432\n",
      "2002        3095\n",
      "2001        2637\n",
      "Name: Cohort, dtype: int64\n"
     ]
    }
   ],
   "source": [
    "print(data[\"graduation\"][\"Cohort\"].value_counts())"
   ]
  },
  {
   "cell_type": "code",
   "execution_count": 5,
   "metadata": {
    "scrolled": true
   },
   "outputs": [],
   "source": [
    "# Filter DataFrames as much as possible\n",
    "\n",
    "# Only schools with meaningful SAT score data\n",
    "sat_results = data[\"sat_results\"].copy()\n",
    "sat_results = sat_results[sat_results[\"Num of SAT Test Takers\"] != \"s\"]\n",
    "sat_results.loc[:,\"Num of SAT Test Takers\"] = sat_results[\"Num of SAT Test Takers\"].astype(\"int\")\n",
    "sat_results.loc[:,\"SAT Critical Reading Avg. Score\"] = sat_results[\"SAT Critical Reading Avg. Score\"].astype(\"int\")\n",
    "sat_results.loc[:,\"SAT Math Avg. Score\"] = sat_results[\"SAT Math Avg. Score\"].astype(\"int\")\n",
    "sat_results.loc[:,\"SAT Writing Avg. Score\"] = sat_results[\"SAT Writing Avg. Score\"].astype(\"int\")\n",
    "data[\"sat_results\"] = sat_results\n",
    "\n",
    "# Only high school for class size data\n",
    "class_size = data[\"class_size\"].copy()\n",
    "class_size.rename(columns={\"GRADE \":\"GRADE\"}, inplace = True) #remove confusing space in column name\n",
    "class_size = class_size[class_size[\"GRADE\"] == \"09-12\"]\n",
    "class_size = class_size[class_size[\"PROGRAM TYPE\"] == \"GEN ED\"]\n",
    "\n",
    "class_size = class_size.groupby(\"DBN\").agg(numpy.mean)\n",
    "class_size.reset_index(inplace=True)\n",
    "data[\"class_size\"] = class_size\n",
    "\n",
    "# Only the 2011-2012 school year for the demographics dataset\n",
    "data[\"demographics\"] = data[\"demographics\"][data[\"demographics\"][\"schoolyear\"] == 20112012]\n",
    "\n",
    "# Only the full 2006 grad cohort data for graduation data\n",
    "data[\"graduation\"] = data[\"graduation\"][data[\"graduation\"][\"Cohort\"] == \"2006\"]\n",
    "data[\"graduation\"] = data[\"graduation\"][data[\"graduation\"][\"Demographic\"] == \"Total Cohort\"]"
   ]
  },
  {
   "cell_type": "markdown",
   "metadata": {},
   "source": [
    "We only need a few columns from the AP test demographics and scores DataFrame for our analysis so we filter to only these columns. One notable column we can use is how many students passed their AP tests, which is defined as scoring 3, 4, or 5 on a 1-5 scale. "
   ]
  },
  {
   "cell_type": "code",
   "execution_count": 6,
   "metadata": {},
   "outputs": [],
   "source": [
    "cols = [\"AP Test Takers \", \"Total Exams Taken\", \"Number of Exams with scores 3 4 or 5\"]\n",
    "\n",
    "for col in cols:\n",
    "    data[\"ap_2010\"][col] = pd.to_numeric(data[\"ap_2010\"][col], errors=\"coerce\")"
   ]
  },
  {
   "cell_type": "code",
   "execution_count": 7,
   "metadata": {},
   "outputs": [
    {
     "data": {
      "text/html": [
       "<div>\n",
       "<style scoped>\n",
       "    .dataframe tbody tr th:only-of-type {\n",
       "        vertical-align: middle;\n",
       "    }\n",
       "\n",
       "    .dataframe tbody tr th {\n",
       "        vertical-align: top;\n",
       "    }\n",
       "\n",
       "    .dataframe thead th {\n",
       "        text-align: right;\n",
       "    }\n",
       "</style>\n",
       "<table border=\"1\" class=\"dataframe\">\n",
       "  <thead>\n",
       "    <tr style=\"text-align: right;\">\n",
       "      <th></th>\n",
       "      <th>DBN</th>\n",
       "      <th>SchoolName</th>\n",
       "      <th>AP Test Takers</th>\n",
       "      <th>Total Exams Taken</th>\n",
       "      <th>Number of Exams with scores 3 4 or 5</th>\n",
       "    </tr>\n",
       "  </thead>\n",
       "  <tbody>\n",
       "    <tr>\n",
       "      <th>0</th>\n",
       "      <td>01M448</td>\n",
       "      <td>UNIVERSITY NEIGHBORHOOD H.S.</td>\n",
       "      <td>39.0</td>\n",
       "      <td>49.0</td>\n",
       "      <td>10.0</td>\n",
       "    </tr>\n",
       "    <tr>\n",
       "      <th>1</th>\n",
       "      <td>01M450</td>\n",
       "      <td>EAST SIDE COMMUNITY HS</td>\n",
       "      <td>19.0</td>\n",
       "      <td>21.0</td>\n",
       "      <td>NaN</td>\n",
       "    </tr>\n",
       "    <tr>\n",
       "      <th>2</th>\n",
       "      <td>01M515</td>\n",
       "      <td>LOWER EASTSIDE PREP</td>\n",
       "      <td>24.0</td>\n",
       "      <td>26.0</td>\n",
       "      <td>24.0</td>\n",
       "    </tr>\n",
       "    <tr>\n",
       "      <th>3</th>\n",
       "      <td>01M539</td>\n",
       "      <td>NEW EXPLORATIONS SCI,TECH,MATH</td>\n",
       "      <td>255.0</td>\n",
       "      <td>377.0</td>\n",
       "      <td>191.0</td>\n",
       "    </tr>\n",
       "    <tr>\n",
       "      <th>4</th>\n",
       "      <td>02M296</td>\n",
       "      <td>High School of Hospitality Management</td>\n",
       "      <td>NaN</td>\n",
       "      <td>NaN</td>\n",
       "      <td>NaN</td>\n",
       "    </tr>\n",
       "    <tr>\n",
       "      <th>...</th>\n",
       "      <td>...</td>\n",
       "      <td>...</td>\n",
       "      <td>...</td>\n",
       "      <td>...</td>\n",
       "      <td>...</td>\n",
       "    </tr>\n",
       "    <tr>\n",
       "      <th>253</th>\n",
       "      <td>31R605</td>\n",
       "      <td>STATEN ISLAND TECHNICAL HS</td>\n",
       "      <td>528.0</td>\n",
       "      <td>905.0</td>\n",
       "      <td>809.0</td>\n",
       "    </tr>\n",
       "    <tr>\n",
       "      <th>254</th>\n",
       "      <td>32K545</td>\n",
       "      <td>EBC-HS FOR PUB SERVICE (BUSH)</td>\n",
       "      <td>47.0</td>\n",
       "      <td>64.0</td>\n",
       "      <td>13.0</td>\n",
       "    </tr>\n",
       "    <tr>\n",
       "      <th>255</th>\n",
       "      <td>32K552</td>\n",
       "      <td>Academy of Urban Planning</td>\n",
       "      <td>76.0</td>\n",
       "      <td>100.0</td>\n",
       "      <td>10.0</td>\n",
       "    </tr>\n",
       "    <tr>\n",
       "      <th>256</th>\n",
       "      <td>32K554</td>\n",
       "      <td>All City Leadership Secondary School</td>\n",
       "      <td>7.0</td>\n",
       "      <td>8.0</td>\n",
       "      <td>NaN</td>\n",
       "    </tr>\n",
       "    <tr>\n",
       "      <th>257</th>\n",
       "      <td>32K556</td>\n",
       "      <td>Bushwick Leaders High School for Academic Exce...</td>\n",
       "      <td>34.0</td>\n",
       "      <td>35.0</td>\n",
       "      <td>18.0</td>\n",
       "    </tr>\n",
       "  </tbody>\n",
       "</table>\n",
       "<p>258 rows × 5 columns</p>\n",
       "</div>"
      ],
      "text/plain": [
       "        DBN                                         SchoolName  \\\n",
       "0    01M448                       UNIVERSITY NEIGHBORHOOD H.S.   \n",
       "1    01M450                             EAST SIDE COMMUNITY HS   \n",
       "2    01M515                                LOWER EASTSIDE PREP   \n",
       "3    01M539                     NEW EXPLORATIONS SCI,TECH,MATH   \n",
       "4    02M296              High School of Hospitality Management   \n",
       "..      ...                                                ...   \n",
       "253  31R605                         STATEN ISLAND TECHNICAL HS   \n",
       "254  32K545                      EBC-HS FOR PUB SERVICE (BUSH)   \n",
       "255  32K552                          Academy of Urban Planning   \n",
       "256  32K554               All City Leadership Secondary School   \n",
       "257  32K556  Bushwick Leaders High School for Academic Exce...   \n",
       "\n",
       "     AP Test Takers   Total Exams Taken  Number of Exams with scores 3 4 or 5  \n",
       "0               39.0               49.0                                  10.0  \n",
       "1               19.0               21.0                                   NaN  \n",
       "2               24.0               26.0                                  24.0  \n",
       "3              255.0              377.0                                 191.0  \n",
       "4                NaN                NaN                                   NaN  \n",
       "..               ...                ...                                   ...  \n",
       "253            528.0              905.0                                 809.0  \n",
       "254             47.0               64.0                                  13.0  \n",
       "255             76.0              100.0                                  10.0  \n",
       "256              7.0                8.0                                   NaN  \n",
       "257             34.0               35.0                                  18.0  \n",
       "\n",
       "[258 rows x 5 columns]"
      ]
     },
     "metadata": {},
     "output_type": "display_data"
    }
   ],
   "source": [
    "display(data[\"ap_2010\"])"
   ]
  },
  {
   "cell_type": "markdown",
   "metadata": {},
   "source": [
    "Our last data cleaning step is to create an overall SAT score column to support our analysis. The SAT score dataset we're working with only contains average scores per school for each SAT section. Since students take all of the SAT sections at once, the average overall SAT score for a given school is the sum of its scores for the individual sections."
   ]
  },
  {
   "cell_type": "code",
   "execution_count": 8,
   "metadata": {},
   "outputs": [],
   "source": [
    "# Create SAT score column\n",
    "data[\"sat_results\"][\"sat_score\"] = sum([data[\"sat_results\"][\"SAT Critical Reading Avg. Score\"], data[\"sat_results\"][\"SAT Math Avg. Score\"], data[\"sat_results\"][\"SAT Writing Avg. Score\"]])"
   ]
  },
  {
   "cell_type": "markdown",
   "metadata": {},
   "source": [
    "### Combining the datasets\n",
    "\n",
    "We are now ready to combine the datasets into one final dataframe we can use for more efficient analysis. We start with the sat_results dataset, add in two left joins to ensure all SAT data is preserved when joining datasets with potentially missing data, then adding the rest of the datasets via inner join since we're confident there are few DBN values that exist in sat_results but not the remaining datasets and we want to make sure we have demographic data available for analysis.\n",
    "\n",
    "Upon combining the data we go from 421 DBNs in the SAT dataset to 335 DBNs in the combined dataset. Upon reviewing the remaining school list for diverse demographics, we're comfortable moving forward with this reduced dataset as it contains the schools we have a sufficient amount of data in the categories we're targeting. That being said, we have introduced a number of columns with some missing data since many of the datasets don't have every column filled out for every DBN. Since we are only interested in high-level correlations, we're comfortable assigning these missing values to the mean of a given column to allow us to perform numerical analysis as needed."
   ]
  },
  {
   "cell_type": "code",
   "execution_count": 9,
   "metadata": {},
   "outputs": [
    {
     "name": "stdout",
     "output_type": "stream",
     "text": [
      "(421, 7)\n",
      "(258, 5)\n",
      "(405, 23)\n",
      "(583, 8)\n",
      "(1509, 38)\n",
      "(1702, 23)\n",
      "(435, 59)\n"
     ]
    }
   ],
   "source": [
    "# Checking how many DBN values are in each dataset\n",
    "print(data[\"sat_results\"].shape)\n",
    "\n",
    "print(data[\"ap_2010\"].shape)\n",
    "print(data[\"graduation\"].shape)\n",
    "\n",
    "print(data[\"class_size\"].shape)\n",
    "print(data[\"demographics\"].shape)\n",
    "print(data[\"survey\"].shape)\n",
    "print(data[\"hs_directory\"].shape)"
   ]
  },
  {
   "cell_type": "code",
   "execution_count": 10,
   "metadata": {},
   "outputs": [],
   "source": [
    "combined = data[\"sat_results\"]\n",
    "\n",
    "combined = combined.merge(data[\"ap_2010\"], on=\"DBN\", how=\"left\")\n",
    "combined = combined.merge(data[\"graduation\"], on=\"DBN\", how=\"left\")\n",
    "\n",
    "to_merge = [\"class_size\", \"demographics\", \"survey\", \"hs_directory\"]\n",
    "\n",
    "for m in to_merge:\n",
    "    combined = combined.merge(data[m], on=\"DBN\", how=\"inner\")"
   ]
  },
  {
   "cell_type": "code",
   "execution_count": 11,
   "metadata": {},
   "outputs": [
    {
     "name": "stdout",
     "output_type": "stream",
     "text": [
      "(335, 157)\n"
     ]
    },
    {
     "data": {
      "text/html": [
       "<div>\n",
       "<style scoped>\n",
       "    .dataframe tbody tr th:only-of-type {\n",
       "        vertical-align: middle;\n",
       "    }\n",
       "\n",
       "    .dataframe tbody tr th {\n",
       "        vertical-align: top;\n",
       "    }\n",
       "\n",
       "    .dataframe thead th {\n",
       "        text-align: right;\n",
       "    }\n",
       "</style>\n",
       "<table border=\"1\" class=\"dataframe\">\n",
       "  <thead>\n",
       "    <tr style=\"text-align: right;\">\n",
       "      <th></th>\n",
       "      <th>DBN</th>\n",
       "      <th>SCHOOL NAME</th>\n",
       "      <th>Num of SAT Test Takers</th>\n",
       "      <th>SAT Critical Reading Avg. Score</th>\n",
       "      <th>SAT Math Avg. Score</th>\n",
       "      <th>SAT Writing Avg. Score</th>\n",
       "      <th>sat_score</th>\n",
       "      <th>SchoolName</th>\n",
       "      <th>AP Test Takers</th>\n",
       "      <th>Total Exams Taken</th>\n",
       "      <th>...</th>\n",
       "      <th>priority02</th>\n",
       "      <th>priority03</th>\n",
       "      <th>priority04</th>\n",
       "      <th>priority05</th>\n",
       "      <th>priority06</th>\n",
       "      <th>priority07</th>\n",
       "      <th>priority08</th>\n",
       "      <th>priority09</th>\n",
       "      <th>priority10</th>\n",
       "      <th>Location 1</th>\n",
       "    </tr>\n",
       "  </thead>\n",
       "  <tbody>\n",
       "    <tr>\n",
       "      <th>0</th>\n",
       "      <td>01M292</td>\n",
       "      <td>HENRY STREET SCHOOL FOR INTERNATIONAL STUDIES</td>\n",
       "      <td>29</td>\n",
       "      <td>355</td>\n",
       "      <td>404</td>\n",
       "      <td>363</td>\n",
       "      <td>1122</td>\n",
       "      <td>NaN</td>\n",
       "      <td>NaN</td>\n",
       "      <td>NaN</td>\n",
       "      <td>...</td>\n",
       "      <td>Then to Manhattan students or residents who at...</td>\n",
       "      <td>Then to New York City residents who attend an ...</td>\n",
       "      <td>Then to Manhattan students or residents</td>\n",
       "      <td>Then to New York City residents</td>\n",
       "      <td>NaN</td>\n",
       "      <td>NaN</td>\n",
       "      <td>NaN</td>\n",
       "      <td>NaN</td>\n",
       "      <td>NaN</td>\n",
       "      <td>220 Henry Street\\nNew York, NY 10002\\n(40.7137...</td>\n",
       "    </tr>\n",
       "    <tr>\n",
       "      <th>1</th>\n",
       "      <td>01M448</td>\n",
       "      <td>UNIVERSITY NEIGHBORHOOD HIGH SCHOOL</td>\n",
       "      <td>91</td>\n",
       "      <td>383</td>\n",
       "      <td>423</td>\n",
       "      <td>366</td>\n",
       "      <td>1172</td>\n",
       "      <td>UNIVERSITY NEIGHBORHOOD H.S.</td>\n",
       "      <td>39.0</td>\n",
       "      <td>49.0</td>\n",
       "      <td>...</td>\n",
       "      <td>For M35B only: Open only to students whose hom...</td>\n",
       "      <td>NaN</td>\n",
       "      <td>NaN</td>\n",
       "      <td>NaN</td>\n",
       "      <td>NaN</td>\n",
       "      <td>NaN</td>\n",
       "      <td>NaN</td>\n",
       "      <td>NaN</td>\n",
       "      <td>NaN</td>\n",
       "      <td>200 Monroe Street\\nNew York, NY 10002\\n(40.712...</td>\n",
       "    </tr>\n",
       "  </tbody>\n",
       "</table>\n",
       "<p>2 rows × 157 columns</p>\n",
       "</div>"
      ],
      "text/plain": [
       "      DBN                                    SCHOOL NAME  \\\n",
       "0  01M292  HENRY STREET SCHOOL FOR INTERNATIONAL STUDIES   \n",
       "1  01M448            UNIVERSITY NEIGHBORHOOD HIGH SCHOOL   \n",
       "\n",
       "   Num of SAT Test Takers  SAT Critical Reading Avg. Score  \\\n",
       "0                      29                              355   \n",
       "1                      91                              383   \n",
       "\n",
       "   SAT Math Avg. Score  SAT Writing Avg. Score  sat_score  \\\n",
       "0                  404                     363       1122   \n",
       "1                  423                     366       1172   \n",
       "\n",
       "                     SchoolName  AP Test Takers   Total Exams Taken  ...  \\\n",
       "0                           NaN              NaN                NaN  ...   \n",
       "1  UNIVERSITY NEIGHBORHOOD H.S.             39.0               49.0  ...   \n",
       "\n",
       "                                          priority02  \\\n",
       "0  Then to Manhattan students or residents who at...   \n",
       "1  For M35B only: Open only to students whose hom...   \n",
       "\n",
       "                                          priority03  \\\n",
       "0  Then to New York City residents who attend an ...   \n",
       "1                                                NaN   \n",
       "\n",
       "                                priority04                       priority05  \\\n",
       "0  Then to Manhattan students or residents  Then to New York City residents   \n",
       "1                                      NaN                              NaN   \n",
       "\n",
       "   priority06 priority07 priority08 priority09 priority10  \\\n",
       "0         NaN        NaN        NaN        NaN        NaN   \n",
       "1         NaN        NaN        NaN        NaN        NaN   \n",
       "\n",
       "                                          Location 1  \n",
       "0  220 Henry Street\\nNew York, NY 10002\\n(40.7137...  \n",
       "1  200 Monroe Street\\nNew York, NY 10002\\n(40.712...  \n",
       "\n",
       "[2 rows x 157 columns]"
      ]
     },
     "execution_count": 11,
     "metadata": {},
     "output_type": "execute_result"
    }
   ],
   "source": [
    "# Confirm combined dataframe has all the columns we expect\n",
    "print(combined.shape)\n",
    "combined.head(2)"
   ]
  },
  {
   "cell_type": "markdown",
   "metadata": {},
   "source": [
    "To further validate our distribution of schools in the combined dataset, we can create a separate column for each school district and investigate the number of schools in each district. There are more schools from district 02, representing Manhattan's Lower East Side and East Village, than other districts but there are schools from a number of districts so we feel comfortable moving forward."
   ]
  },
  {
   "cell_type": "code",
   "execution_count": 12,
   "metadata": {},
   "outputs": [
    {
     "data": {
      "text/plain": [
       "02    42\n",
       "10    22\n",
       "09    19\n",
       "11    15\n",
       "17    14\n",
       "14    13\n",
       "24    13\n",
       "07    13\n",
       "13    12\n",
       "19    12\n",
       "Name: school_dist, dtype: int64"
      ]
     },
     "execution_count": 12,
     "metadata": {},
     "output_type": "execute_result"
    }
   ],
   "source": [
    "def get_first_two_chars(dbn):\n",
    "    return dbn[0:2]\n",
    "\n",
    "combined[\"school_dist\"] = combined[\"DBN\"].apply(get_first_two_chars)\n",
    "combined[\"school_dist\"].value_counts().head(10)"
   ]
  },
  {
   "cell_type": "markdown",
   "metadata": {},
   "source": [
    "## Analysis\n",
    "\n",
    "### Correlations\n",
    "\n",
    "Since the goal of our analysis is to investigate how SAT scores are related to demographic factors and academic outcomes within NYC high schools, we start the analysis by examining the correlation between SAT scores and other columns in our final dataset.\n",
    "\n",
    "Upon first glance, the columns most positively correlated with SAT score (besides the score columns themselves) are White and Asian student percentages and columns associated with AP exam offerings. The columns most negatively correlated with sat score are percent of students using free or reduced lunch programs and special education student percentage. One potentially surprising value is that total students of a school and average class size are both positively correlated with SAT scores.\n",
    "\n",
    "While this high-level correlation data gives us a starting point, we'll investigate each of our datasets more thoroughly."
   ]
  },
  {
   "cell_type": "code",
   "execution_count": 13,
   "metadata": {},
   "outputs": [
    {
     "data": {
      "text/plain": [
       "sat_score                               1.000000\n",
       "SAT Writing Avg. Score                  0.987771\n",
       "SAT Critical Reading Avg. Score         0.986820\n",
       "SAT Math Avg. Score                     0.972643\n",
       "white_per                               0.639438\n",
       "AP Test Takers                          0.619152\n",
       "Number of Exams with scores 3 4 or 5    0.612911\n",
       "Total Exams Taken                       0.608719\n",
       "asian_per                               0.589511\n",
       "Num of SAT Test Takers                  0.485338\n",
       "asian_num                               0.477302\n",
       "white_num                               0.451572\n",
       "N_s                                     0.431205\n",
       "N_p                                     0.427816\n",
       "total_students                          0.411785\n",
       "AVERAGE CLASS SIZE                      0.411199\n",
       "NUMBER OF STUDENTS / SEATS FILLED       0.400730\n",
       "female_num                              0.393833\n",
       "total_enrollment                        0.372790\n",
       "NUMBER OF SECTIONS                      0.368859\n",
       "saf_s_11                                0.352208\n",
       "aca_s_11                                0.351836\n",
       "SIZE OF LARGEST CLASS                   0.343992\n",
       "saf_t_11                                0.342117\n",
       "saf_tot_11                              0.339704\n",
       "Total Cohort                            0.332066\n",
       "male_num                                0.330050\n",
       "N_t                                     0.296857\n",
       "SIZE OF SMALLEST CLASS                  0.272326\n",
       "rr_s                                    0.249091\n",
       "eng_s_11                                0.223132\n",
       "aca_tot_11                              0.206689\n",
       "com_s_11                                0.196625\n",
       "aca_t_11                                0.147239\n",
       "saf_p_11                                0.128059\n",
       "female_per                              0.119664\n",
       "number_programs                         0.118241\n",
       "eng_tot_11                              0.109724\n",
       "com_t_11                                0.090789\n",
       "com_tot_11                              0.084851\n",
       "rr_p                                    0.050463\n",
       "CSD                                     0.044940\n",
       "eng_t_11                                0.041043\n",
       "aca_p_11                                0.036696\n",
       "sped_num                                0.035414\n",
       "black_num                               0.028486\n",
       "hispanic_num                            0.026156\n",
       "eng_p_11                                0.021242\n",
       "rr_t                                   -0.024938\n",
       "zip                                    -0.067080\n",
       "male_per                               -0.119615\n",
       "com_p_11                               -0.120809\n",
       "ell_num                                -0.154844\n",
       "black_per                              -0.293191\n",
       "hispanic_per                           -0.411880\n",
       "ell_percent                            -0.426293\n",
       "sped_percent                           -0.471297\n",
       "frl_percent                            -0.751400\n",
       "Name: sat_score, dtype: float64"
      ]
     },
     "metadata": {},
     "output_type": "display_data"
    }
   ],
   "source": [
    "correlations = combined.corr()\n",
    "correlations = correlations[\"sat_score\"]\n",
    "\n",
    "# Display table of sorted correlation values\n",
    "pd.set_option('display.max_rows', 100)\n",
    "display(correlations.sort_values(ascending = False).head(-4)) # don't include object columns without an r value\n",
    "pd.reset_option('display.max_rows')"
   ]
  },
  {
   "cell_type": "markdown",
   "metadata": {},
   "source": [
    "### SAT Scores and School Racial Demographics\n",
    "\n",
    "As discussed above, the student racial breakdown of schools is highly correlated with SAT scores. Isolating the four relevant columns from the dataset, we see that White and Asian percentage is positively correlated with SAT scores while Black and Hispanic percentage is negatively correlated."
   ]
  },
  {
   "cell_type": "code",
   "execution_count": 14,
   "metadata": {},
   "outputs": [
    {
     "data": {
      "image/png": "[encoded data removed]",
      "text/plain": [
       "<Figure size 432x288 with 1 Axes>"
      ]
     },
     "metadata": {
      "needs_background": "light"
     },
     "output_type": "display_data"
    }
   ],
   "source": [
    "# SAT scores per race\n",
    "race_cols = ['white_per','asian_per','black_per','hispanic_per']\n",
    "\n",
    "race_corrs = combined.corr()['sat_score']\n",
    "race_corrs = race_corrs[race_cols]\n",
    "\n",
    "fig, ax = plt.subplots()\n",
    "race_corrs.plot.bar()\n",
    "plt.title(\"Correlation Between School Avg SAT Score and School Student Racial Breakdown\")\n",
    "plt.xlabel(\"Student Race Percentage\")\n",
    "plt.ylabel(\"r value\")\n",
    "plt.axhline(y=0)\n",
    "for axis in [\"left\",\"right\",\"top\",\"bottom\"]:\n",
    "    ax.spines[axis].set_visible(False)\n",
    "ax.tick_params(axis=\"x\", labelrotation=0, bottom=False, left=False)\n",
    "plt.show()"
   ]
  },
  {
   "cell_type": "markdown",
   "metadata": {},
   "source": [
    "### SAT Scores and School/Class Size\n",
    "\n",
    "In this dataset, both school size and average class size are positively correlated with the school's SAT score. Upon viewing the total enrollment scatterplot there are a handful of well performing schools with both a high total enrollment and high SAT scores, but there isn't more than a small noticeable positive correlation. On the other hand, the average class size graph does seem to show a clear positive correlation throughout the dataset."
   ]
  },
  {
   "cell_type": "code",
   "execution_count": 15,
   "metadata": {},
   "outputs": [
    {
     "data": {
      "image/png": "[encoded data removed]",
      "text/plain": [
       "<Figure size 432x288 with 1 Axes>"
      ]
     },
     "metadata": {
      "needs_background": "light"
     },
     "output_type": "display_data"
    },
    {
     "data": {
      "image/png": "[encoded data removed]",
      "text/plain": [
       "<Figure size 432x288 with 1 Axes>"
      ]
     },
     "metadata": {
      "needs_background": "light"
     },
     "output_type": "display_data"
    }
   ],
   "source": [
    "combined.plot.scatter(x='total_enrollment',y='sat_score')\n",
    "plt.title(\"School Avg SAT Score by School Total Enrollment\")\n",
    "plt.ylabel(\"r\")\n",
    "plt.show()\n",
    "\n",
    "combined.rename(columns={\"AVERAGE CLASS SIZE\":\"average_class_size\"}, inplace = True) # align formatting with other graphs\n",
    "combined.plot.scatter(x='average_class_size',y='sat_score')\n",
    "plt.title(\"School Avg SAT Score by School Average Class Size\")\n",
    "plt.ylabel(\"r\")\n",
    "plt.show()"
   ]
  },
  {
   "cell_type": "code",
   "execution_count": 16,
   "metadata": {},
   "outputs": [
    {
     "data": {
      "text/html": [
       "<div>\n",
       "<style scoped>\n",
       "    .dataframe tbody tr th:only-of-type {\n",
       "        vertical-align: middle;\n",
       "    }\n",
       "\n",
       "    .dataframe tbody tr th {\n",
       "        vertical-align: top;\n",
       "    }\n",
       "\n",
       "    .dataframe thead th {\n",
       "        text-align: right;\n",
       "    }\n",
       "</style>\n",
       "<table border=\"1\" class=\"dataframe\">\n",
       "  <thead>\n",
       "    <tr style=\"text-align: right;\">\n",
       "      <th></th>\n",
       "      <th>DBN</th>\n",
       "      <th>SCHOOL NAME</th>\n",
       "      <th>school_dist</th>\n",
       "      <th>total_enrollment</th>\n",
       "      <th>sat_score</th>\n",
       "      <th>white_per</th>\n",
       "      <th>asian_per</th>\n",
       "      <th>black_per</th>\n",
       "      <th>hispanic_per</th>\n",
       "      <th>female_per</th>\n",
       "      <th>male_per</th>\n",
       "    </tr>\n",
       "  </thead>\n",
       "  <tbody>\n",
       "    <tr>\n",
       "      <th>31</th>\n",
       "      <td>02M475</td>\n",
       "      <td>STUYVESANT HIGH SCHOOL</td>\n",
       "      <td>02</td>\n",
       "      <td>3297</td>\n",
       "      <td>2096</td>\n",
       "      <td>23.7</td>\n",
       "      <td>72.1</td>\n",
       "      <td>1.2</td>\n",
       "      <td>2.4</td>\n",
       "      <td>40.7</td>\n",
       "      <td>59.3</td>\n",
       "    </tr>\n",
       "    <tr>\n",
       "      <th>136</th>\n",
       "      <td>10X445</td>\n",
       "      <td>BRONX HIGH SCHOOL OF SCIENCE</td>\n",
       "      <td>10</td>\n",
       "      <td>3013</td>\n",
       "      <td>1969</td>\n",
       "      <td>25.4</td>\n",
       "      <td>63.5</td>\n",
       "      <td>3.5</td>\n",
       "      <td>7.2</td>\n",
       "      <td>42.2</td>\n",
       "      <td>57.8</td>\n",
       "    </tr>\n",
       "    <tr>\n",
       "      <th>170</th>\n",
       "      <td>13K430</td>\n",
       "      <td>BROOKLYN TECHNICAL HIGH SCHOOL</td>\n",
       "      <td>13</td>\n",
       "      <td>5332</td>\n",
       "      <td>1833</td>\n",
       "      <td>21.3</td>\n",
       "      <td>60.3</td>\n",
       "      <td>10.2</td>\n",
       "      <td>7.9</td>\n",
       "      <td>41.7</td>\n",
       "      <td>58.3</td>\n",
       "    </tr>\n",
       "  </tbody>\n",
       "</table>\n",
       "</div>"
      ],
      "text/plain": [
       "        DBN                     SCHOOL NAME school_dist  total_enrollment  \\\n",
       "31   02M475          STUYVESANT HIGH SCHOOL          02              3297   \n",
       "136  10X445    BRONX HIGH SCHOOL OF SCIENCE          10              3013   \n",
       "170  13K430  BROOKLYN TECHNICAL HIGH SCHOOL          13              5332   \n",
       "\n",
       "     sat_score  white_per  asian_per  black_per  hispanic_per  female_per  \\\n",
       "31        2096       23.7       72.1        1.2           2.4        40.7   \n",
       "136       1969       25.4       63.5        3.5           7.2        42.2   \n",
       "170       1833       21.3       60.3       10.2           7.9        41.7   \n",
       "\n",
       "     male_per  \n",
       "31       59.3  \n",
       "136      57.8  \n",
       "170      58.3  "
      ]
     },
     "metadata": {},
     "output_type": "display_data"
    }
   ],
   "source": [
    "# Investigate schools with high enrollment and high SAT scores\n",
    "\n",
    "high_enroll_high_sat = combined[(combined[\"sat_score\"] > 1800) & (combined[\"total_enrollment\"] > 2000)]\n",
    "display(high_enroll_high_sat[[\"DBN\",\"SCHOOL NAME\",\"school_dist\",\"total_enrollment\",\"sat_score\",\"white_per\",\"asian_per\",\"black_per\",\"hispanic_per\",\"female_per\",\"male_per\"]])                    "
   ]
  },
  {
   "cell_type": "markdown",
   "metadata": {},
   "source": [
    "We felt it relevant to dig into the large, well-performing schools to better understand what advantages these schools enjoy, or even if there is a data issue. There are three schools with enrollment over 2000 and an average SAT score over 1800 we investigated:\n",
    "\n",
    "1. [Stuyvesant High School](https://en.wikipedia.org/wiki/Stuyvesant_High_School) - an extremely competitive school in Manhattan, one of the nine [specialized high schools in NYC](https://en.wikipedia.org/wiki/Specialized_high_schools_in_New_York_City), that consistently ranks as one of the best public high schools in the country. Enrollment is based on performance on the Specialized High Schools Admissions Test, or SHSAT, a standardized test.\n",
    "\n",
    "2. [Bronx High School of Science](https://en.wikipedia.org/wiki/Bronx_High_School_of_Science) - another specialized high school. This school has produced the most Nobel laureates of any secondary school in the world.\n",
    "\n",
    "3. [Brooklyn Technical High School](https://en.wikipedia.org/wiki/Brooklyn_Technical_High_School) - also a specialized school in the NYC public school system.  Brooklyn Tech is the largest of the specialized high schools, but it still seen as incredibly selective and prestigious and admission is based on the SHSAT.\n",
    "\n",
    "While the SAT scores for these high schools are correct, these three schools are the original three NYC specialized high schools and the three most prestigious magnet schools in the city. Thus it's difficult to see how the high achieving nature of these institutions can be applied to the NYC school system more widely.\n",
    "\n",
    "Digging into the demographics of these schools further, they are all majority Asian and male. If anything, it's surprising that considering these highest achieving high schools, White student percent and female student percent have the highest SAT score correlations over the other race and male percentages respectively."
   ]
  },
  {
   "cell_type": "markdown",
   "metadata": {},
   "source": [
    "### Gender\n",
    "\n",
    "Another demographic to study is gender. There is a slight positive correlation between female student percentage and average SAT score. From viewing the scatterplot below, there are a number of schools between 60 and 80 percent female with high (over 1700) SAT scores that may warrant further investigation on what they are doing well."
   ]
  },
  {
   "cell_type": "code",
   "execution_count": 17,
   "metadata": {
    "scrolled": true
   },
   "outputs": [
    {
     "name": "stdout",
     "output_type": "stream",
     "text": [
      "School Gender Proportion Correlation with SAT Score\n",
      "male_per     -0.119615\n",
      "female_per    0.119664\n",
      "Name: sat_score, dtype: float64\n"
     ]
    },
    {
     "data": {
      "image/png": "[encoded data removed]",
      "text/plain": [
       "<Figure size 432x288 with 1 Axes>"
      ]
     },
     "metadata": {
      "needs_background": "light"
     },
     "output_type": "display_data"
    },
    {
     "data": {
      "text/html": [
       "<div>\n",
       "<style scoped>\n",
       "    .dataframe tbody tr th:only-of-type {\n",
       "        vertical-align: middle;\n",
       "    }\n",
       "\n",
       "    .dataframe tbody tr th {\n",
       "        vertical-align: top;\n",
       "    }\n",
       "\n",
       "    .dataframe thead th {\n",
       "        text-align: right;\n",
       "    }\n",
       "</style>\n",
       "<table border=\"1\" class=\"dataframe\">\n",
       "  <thead>\n",
       "    <tr style=\"text-align: right;\">\n",
       "      <th></th>\n",
       "      <th>DBN</th>\n",
       "      <th>SCHOOL NAME</th>\n",
       "      <th>school_dist</th>\n",
       "      <th>sat_score</th>\n",
       "      <th>total_enrollment</th>\n",
       "      <th>white_per</th>\n",
       "      <th>asian_per</th>\n",
       "      <th>black_per</th>\n",
       "      <th>hispanic_per</th>\n",
       "      <th>female_per</th>\n",
       "      <th>male_per</th>\n",
       "    </tr>\n",
       "  </thead>\n",
       "  <tbody>\n",
       "    <tr>\n",
       "      <th>5</th>\n",
       "      <td>01M696</td>\n",
       "      <td>BARD HIGH SCHOOL EARLY COLLEGE</td>\n",
       "      <td>01</td>\n",
       "      <td>1856</td>\n",
       "      <td>617</td>\n",
       "      <td>49.8</td>\n",
       "      <td>15.1</td>\n",
       "      <td>15.1</td>\n",
       "      <td>18.2</td>\n",
       "      <td>68.7</td>\n",
       "      <td>31.3</td>\n",
       "    </tr>\n",
       "    <tr>\n",
       "      <th>23</th>\n",
       "      <td>02M416</td>\n",
       "      <td>ELEANOR ROOSEVELT HIGH SCHOOL</td>\n",
       "      <td>02</td>\n",
       "      <td>1758</td>\n",
       "      <td>507</td>\n",
       "      <td>63.7</td>\n",
       "      <td>17.2</td>\n",
       "      <td>5.5</td>\n",
       "      <td>11.6</td>\n",
       "      <td>67.5</td>\n",
       "      <td>32.5</td>\n",
       "    </tr>\n",
       "    <tr>\n",
       "      <th>51</th>\n",
       "      <td>03M479</td>\n",
       "      <td>BEACON HIGH SCHOOL</td>\n",
       "      <td>03</td>\n",
       "      <td>1744</td>\n",
       "      <td>1162</td>\n",
       "      <td>49.8</td>\n",
       "      <td>8.9</td>\n",
       "      <td>14.6</td>\n",
       "      <td>22.8</td>\n",
       "      <td>61.0</td>\n",
       "      <td>39.0</td>\n",
       "    </tr>\n",
       "    <tr>\n",
       "      <th>52</th>\n",
       "      <td>03M485</td>\n",
       "      <td>FIORELLO H. LAGUARDIA HIGH SCHOOL OF MUSIC &amp; A...</td>\n",
       "      <td>03</td>\n",
       "      <td>1707</td>\n",
       "      <td>2605</td>\n",
       "      <td>49.2</td>\n",
       "      <td>19.6</td>\n",
       "      <td>12.9</td>\n",
       "      <td>16.6</td>\n",
       "      <td>73.6</td>\n",
       "      <td>26.4</td>\n",
       "    </tr>\n",
       "    <tr>\n",
       "      <th>279</th>\n",
       "      <td>25Q525</td>\n",
       "      <td>TOWNSEND HARRIS HIGH SCHOOL</td>\n",
       "      <td>25</td>\n",
       "      <td>1910</td>\n",
       "      <td>1140</td>\n",
       "      <td>24.6</td>\n",
       "      <td>55.5</td>\n",
       "      <td>5.9</td>\n",
       "      <td>12.9</td>\n",
       "      <td>71.1</td>\n",
       "      <td>28.9</td>\n",
       "    </tr>\n",
       "  </tbody>\n",
       "</table>\n",
       "</div>"
      ],
      "text/plain": [
       "        DBN                                        SCHOOL NAME school_dist  \\\n",
       "5    01M696                     BARD HIGH SCHOOL EARLY COLLEGE          01   \n",
       "23   02M416                      ELEANOR ROOSEVELT HIGH SCHOOL          02   \n",
       "51   03M479                                 BEACON HIGH SCHOOL          03   \n",
       "52   03M485  FIORELLO H. LAGUARDIA HIGH SCHOOL OF MUSIC & A...          03   \n",
       "279  25Q525                        TOWNSEND HARRIS HIGH SCHOOL          25   \n",
       "\n",
       "     sat_score  total_enrollment  white_per  asian_per  black_per  \\\n",
       "5         1856               617       49.8       15.1       15.1   \n",
       "23        1758               507       63.7       17.2        5.5   \n",
       "51        1744              1162       49.8        8.9       14.6   \n",
       "52        1707              2605       49.2       19.6       12.9   \n",
       "279       1910              1140       24.6       55.5        5.9   \n",
       "\n",
       "     hispanic_per  female_per  male_per  \n",
       "5            18.2        68.7      31.3  \n",
       "23           11.6        67.5      32.5  \n",
       "51           22.8        61.0      39.0  \n",
       "52           16.6        73.6      26.4  \n",
       "279          12.9        71.1      28.9  "
      ]
     },
     "metadata": {},
     "output_type": "display_data"
    }
   ],
   "source": [
    "gender_corr = combined.corr().loc[[\"male_per\",\"female_per\"],\"sat_score\"]\n",
    "print(\"School Gender Proportion Correlation with SAT Score\")\n",
    "print(gender_corr)\n",
    "\n",
    "combined.plot.scatter(x=\"female_per\",y=\"sat_score\")\n",
    "plt.title(\"School Avg SAT Score by Percentage of Female Students\")\n",
    "plt.ylabel(\"r\")\n",
    "plt.show()\n",
    "\n",
    "# Isolate schools with over 60 percent female student population and SAT scores over 1700\n",
    "high_female_high_sat = combined[(combined['female_per'] > 60) & (combined['sat_score'] > 1700)]\n",
    "display(high_female_high_sat[[\"DBN\",\"SCHOOL NAME\",\"school_dist\",\"sat_score\",\"total_enrollment\",\"white_per\",\"asian_per\",\"black_per\",\"hispanic_per\",\"female_per\",\"male_per\"]])"
   ]
  },
  {
   "cell_type": "markdown",
   "metadata": {},
   "source": [
    "Researching these high schools, they are all a magnet school or have some kind of competitive application process. Eleanor Roosevelt and Townsend Harris High Schools have a reputation for a more liberal arts-based curriculum than most schools, while LaGuardia High is focused on music and art. The Beacon School and Bard High School Early College school use alternative structures than standard schools, with Beacon having portfolio-based assessments instead of testing and Bard giving out both high school and associate's degrees at the same time to one student. These schools make up a different sector of high-achieving institutions in the New York City school system, but they also represent the most prestigious and competitive schools of the system alongside the high enrollment/high SAT schools."
   ]
  },
  {
   "cell_type": "markdown",
   "metadata": {},
   "source": [
    "### AP Test Results\n",
    "\n",
    "Since AP tests are one of the USA's other major standardized testing programs, we looked at whether a school's students taking or passing a higher proportion of AP tests would correlate with success on the SAT. "
   ]
  },
  {
   "cell_type": "code",
   "execution_count": 18,
   "metadata": {},
   "outputs": [
    {
     "name": "stdout",
     "output_type": "stream",
     "text": [
      "AP Column Correlations with SAT Score\n"
     ]
    },
    {
     "data": {
      "text/plain": [
       "sat_score                   1.000000\n",
       "ap_per                      0.729992\n",
       "ap_exams_per_test_taker     0.314435\n",
       "ap_passes_per_test_taker    0.631840\n",
       "Name: sat_score, dtype: float64"
      ]
     },
     "metadata": {},
     "output_type": "display_data"
    },
    {
     "data": {
      "image/png": "[encoded data removed]",
      "text/plain": [
       "<Figure size 432x288 with 1 Axes>"
      ]
     },
     "metadata": {
      "needs_background": "light"
     },
     "output_type": "display_data"
    },
    {
     "data": {
      "image/png": "[encoded data removed]",
      "text/plain": [
       "<Figure size 432x288 with 1 Axes>"
      ]
     },
     "metadata": {
      "needs_background": "light"
     },
     "output_type": "display_data"
    },
    {
     "data": {
      "image/png": "[encoded data removed]",
      "text/plain": [
       "<Figure size 432x288 with 1 Axes>"
      ]
     },
     "metadata": {
      "needs_background": "light"
     },
     "output_type": "display_data"
    }
   ],
   "source": [
    "# Create columns for standardized AP Test Info\n",
    "combined.rename(columns={\"AP Test Takers \":\"AP Test Takers\"}, inplace=True)\n",
    "combined[\"ap_per\"] = combined[\"AP Test Takers\"] / combined['total_enrollment']\n",
    "combined[\"ap_exams_per_test_taker\"] = combined[\"Total Exams Taken\"] / combined[\"AP Test Takers\"]\n",
    "combined[\"ap_passes_per_test_taker\"] = combined[\"Number of Exams with scores 3 4 or 5\"] / combined[\"AP Test Takers\"]\n",
    "\n",
    "ap_correlations = combined[[\"sat_score\",\"ap_per\",\"ap_exams_per_test_taker\",\"ap_passes_per_test_taker\"]].corr()\n",
    "\n",
    "print(\"AP Column Correlations with SAT Score\")\n",
    "display(ap_correlations[\"sat_score\"])\n",
    "\n",
    "combined.plot.scatter(x='ap_per',y='sat_score')\n",
    "plt.title('SAT Scores vs. Percent of Students Who Took an AP Test Per School')\n",
    "plt.show()\n",
    "\n",
    "combined.plot.scatter(x='ap_exams_per_test_taker',y='sat_score')\n",
    "plt.title('School Avg SAT Score vs. AP Exams Taken Per Student Who Took At Least One Exam')\n",
    "plt.show()\n",
    "\n",
    "combined.plot.scatter(x='ap_passes_per_test_taker',y='sat_score')\n",
    "plt.title('School Avg SAT Score vs. AP Exams Taken Per Student Who Took At Least One Exam')\n",
    "plt.show()"
   ]
  },
  {
   "cell_type": "markdown",
   "metadata": {},
   "source": [
    "While all three values regarding AP tests are positively correlated with a school's average SAT score, the percent of students at a school taking AP exams and the amount of exams each student is passing are more highly correlated than whether students are taking multiple exams. Overall this data shows the success of AP curricula in leading to improved SAT scores, although there are a number of other correlated variables to consider as well. While it makes sense that students passing AP tests would be more tightly correlated with SAT scores than simply taking AP tests, we are surprised that taking more exams doesn't correlate more with SAT scores. Perhaps some schools are requiring AP tests for students in an effort to establish high academic standards, but some students are struggling to meet them in terms of standardized test performance."
   ]
  },
  {
   "cell_type": "markdown",
   "metadata": {},
   "source": [
    "## Survey Data\n",
    "\n",
    "The last dataset we will analyze is the NYC School Survey data we collected. Similar to the other data, we'll start by examining the overall correlation value between a school's average sat score and each data point to determine areas to prioritize further investigation.  Note that we removed outliers where the average school safety score was originally missing, but we set the value to zero when joining survey data to our overall dataset.\n",
    "\n",
    "Looking at the [2011 NYC School Survey data dictionary](https://data.cityofnewyork.us/Education/2011-NYC-School-Survey/mnz3-dyi8), the column naming convention is as follows.\n",
    "\n",
    "rr - Response rate  \n",
    "N - Number of survey takers  \n",
    "saf - Safety score  \n",
    "com - Communication score  \n",
    "eng - Engagement score  \n",
    "aca - Academic Expectations score  \n",
    "\n",
    "_s - Student responses  \n",
    "_t - Teacher responses  \n",
    "_p - Parent responses  \n",
    "_tot - All responses together (total)\n",
    "\n",
    "11 - Grade 11"
   ]
  },
  {
   "cell_type": "code",
   "execution_count": 19,
   "metadata": {},
   "outputs": [
    {
     "data": {
      "image/png": "[encoded data removed]",
      "text/plain": [
       "<Figure size 864x288 with 1 Axes>"
      ]
     },
     "metadata": {
      "needs_background": "light"
     },
     "output_type": "display_data"
    }
   ],
   "source": [
    "#Plot correlations\n",
    "survey_fields = [ \n",
    "    \"rr_s\", \n",
    "    \"rr_t\", \n",
    "    \"rr_p\", \n",
    "    \"N_s\", \n",
    "    \"N_t\", \n",
    "    \"N_p\", \n",
    "    \"saf_p_11\", \n",
    "    \"com_p_11\", \n",
    "    \"eng_p_11\", \n",
    "    \"aca_p_11\", \n",
    "    \"saf_t_11\", \n",
    "    \"com_t_11\", \n",
    "    \"eng_t_11\", \n",
    "    \"aca_t_11\", \n",
    "    \"saf_s_11\", \n",
    "    \"com_s_11\", \n",
    "    \"eng_s_11\", \n",
    "    \"aca_s_11\", \n",
    "    \"saf_tot_11\", \n",
    "    \"com_tot_11\", \n",
    "    \"eng_tot_11\", \n",
    "    \"aca_tot_11\",\n",
    "]\n",
    "\n",
    "# # Reset originally missing values back to NaN\n",
    "# survey_results = combined[survey_fields]\n",
    "# survey_results = survey_results.replace(0, numpy.nan)\n",
    "# combined[survey_fields] = survey_results\n",
    "\n",
    "survey_corrs = combined.corr()[\"sat_score\"]\n",
    "survey_corrs = survey_corrs[survey_fields]\n",
    "\n",
    "fig, ax = plt.subplots(figsize=(12,4))\n",
    "survey_corrs.plot.bar(y=survey_corrs)\n",
    "plt.title(\"School Avg SAT Score Correlation with Survey Values\")\n",
    "plt.ylabel(\"r value\")\n",
    "ax.tick_params(axis=\"x\", labelrotation=60)\n",
    "ax.tick_params(left=False)\n",
    "ax.xaxis.tick_top()\n",
    "for axis in [\"left\",\"right\",\"top\",\"bottom\"]:\n",
    "    ax.spines[axis].set_visible(False)\n",
    "plt.axhline(y=0)\n",
    "plt.show()"
   ]
  },
  {
   "cell_type": "markdown",
   "metadata": {},
   "source": [
    "Reviewing the correlations, the most positively correlated values are the number of students and parents who took the survey from a given school. Perhaps the largest takeaway is that simply being engaged with the school enough to respond to a school survey shows a higher achieving school community. It also aligns with our earlier finding that higher total enrollment is positively correlated with SAT score.\n",
    "\n",
    "Comparing the correlation values between student, teacher, and parent responses, the student survey responses have a higher correlation with SAT score. This suggests that students have a better pulse on how their school experience is impacting potential outcomes than teachers or parents do.\n",
    "\n",
    "Within the individual survey scores, the safety score has the highest correlation value for each category of respondents, although the parent value is lower than students and teachers. Thus we'll focus on safety scores for deeper investigation."
   ]
  },
  {
   "cell_type": "code",
   "execution_count": 20,
   "metadata": {
    "scrolled": false
   },
   "outputs": [
    {
     "data": {
      "image/png": "[encoded data removed]",
      "text/plain": [
       "<Figure size 432x288 with 1 Axes>"
      ]
     },
     "metadata": {
      "needs_background": "light"
     },
     "output_type": "display_data"
    },
    {
     "data": {
      "image/png": "[encoded data removed]",
      "text/plain": [
       "<Figure size 432x288 with 1 Axes>"
      ]
     },
     "metadata": {
      "needs_background": "light"
     },
     "output_type": "display_data"
    },
    {
     "data": {
      "image/png": "[encoded data removed]",
      "text/plain": [
       "<Figure size 432x288 with 1 Axes>"
      ]
     },
     "metadata": {
      "needs_background": "light"
     },
     "output_type": "display_data"
    }
   ],
   "source": [
    "# Safety score scatter plots\n",
    "combined.plot.scatter(x=\"saf_s_11\",y=\"sat_score\")\n",
    "plt.title(\"Student Reported Safety Scores\")\n",
    "plt.show()\n",
    "\n",
    "combined.plot.scatter(x='saf_t_11',y='sat_score')\n",
    "plt.title('Teacher Reported Safety Scores')\n",
    "plt.show()\n",
    "\n",
    "combined.plot.scatter(x='saf_p_11',y='sat_score')\n",
    "plt.title('Parent Reported Safety Scores')\n",
    "plt.show()"
   ]
  },
  {
   "cell_type": "markdown",
   "metadata": {},
   "source": [
    "The SAT score vs. safety score graph for all three groups has the same general shape, where only higher rated schools in regards to safety tend to be the ones with high average SAT scores. That being said, there are a number of schools with high safety ratings but still average or below SAT scores, so while safety seems to be a prerequisite for higher SAT scores, it does not appear to be the only factor at play.\n",
    "\n",
    "There is a noticeable trend where students give the lowest safety scores, followed by teachers and then parents. In fact, when examining the parent plot the general shape is the same as the others but there are so many high scores that there are many schools in the category of high safety scores but average or below SAT scores. This would explain the less positive correlation for parent responses than students or teachers.\n",
    "\n",
    "Another area we can explore in regards to safety and SAT scores is breaking down the data by borough; New York City famously has five boroughs, each representing a different county and maintaining their own local government, although the public school system is managed city wide. We'll examine the mean SAT score and safety score of each borough."
   ]
  },
  {
   "cell_type": "code",
   "execution_count": 21,
   "metadata": {
    "scrolled": true
   },
   "outputs": [
    {
     "data": {
      "text/html": [
       "<div>\n",
       "<style scoped>\n",
       "    .dataframe tbody tr th:only-of-type {\n",
       "        vertical-align: middle;\n",
       "    }\n",
       "\n",
       "    .dataframe tbody tr th {\n",
       "        vertical-align: top;\n",
       "    }\n",
       "\n",
       "    .dataframe thead th {\n",
       "        text-align: right;\n",
       "    }\n",
       "</style>\n",
       "<table border=\"1\" class=\"dataframe\">\n",
       "  <thead>\n",
       "    <tr style=\"text-align: right;\">\n",
       "      <th></th>\n",
       "      <th>school_count</th>\n",
       "      <th>sat_score</th>\n",
       "      <th>saf_s_11</th>\n",
       "      <th>saf_t_11</th>\n",
       "      <th>saf_p_11</th>\n",
       "    </tr>\n",
       "    <tr>\n",
       "      <th>boro</th>\n",
       "      <th></th>\n",
       "      <th></th>\n",
       "      <th></th>\n",
       "      <th></th>\n",
       "      <th></th>\n",
       "    </tr>\n",
       "  </thead>\n",
       "  <tbody>\n",
       "    <tr>\n",
       "      <th>Bronx</th>\n",
       "      <td>87</td>\n",
       "      <td>1153.057471</td>\n",
       "      <td>6.604598</td>\n",
       "      <td>7.018391</td>\n",
       "      <td>8.337931</td>\n",
       "    </tr>\n",
       "    <tr>\n",
       "      <th>Brooklyn</th>\n",
       "      <td>100</td>\n",
       "      <td>1178.840000</td>\n",
       "      <td>6.372000</td>\n",
       "      <td>7.016000</td>\n",
       "      <td>8.051000</td>\n",
       "    </tr>\n",
       "    <tr>\n",
       "      <th>Manhattan</th>\n",
       "      <td>79</td>\n",
       "      <td>1285.974684</td>\n",
       "      <td>6.812987</td>\n",
       "      <td>7.293671</td>\n",
       "      <td>8.264557</td>\n",
       "    </tr>\n",
       "    <tr>\n",
       "      <th>Queens</th>\n",
       "      <td>59</td>\n",
       "      <td>1292.118644</td>\n",
       "      <td>6.708475</td>\n",
       "      <td>7.349153</td>\n",
       "      <td>8.067797</td>\n",
       "    </tr>\n",
       "    <tr>\n",
       "      <th>Staten Island</th>\n",
       "      <td>10</td>\n",
       "      <td>1382.500000</td>\n",
       "      <td>6.530000</td>\n",
       "      <td>7.210000</td>\n",
       "      <td>7.800000</td>\n",
       "    </tr>\n",
       "  </tbody>\n",
       "</table>\n",
       "</div>"
      ],
      "text/plain": [
       "               school_count    sat_score  saf_s_11  saf_t_11  saf_p_11\n",
       "boro                                                                  \n",
       "Bronx                    87  1153.057471  6.604598  7.018391  8.337931\n",
       "Brooklyn                100  1178.840000  6.372000  7.016000  8.051000\n",
       "Manhattan                79  1285.974684  6.812987  7.293671  8.264557\n",
       "Queens                   59  1292.118644  6.708475  7.349153  8.067797\n",
       "Staten Island            10  1382.500000  6.530000  7.210000  7.800000"
      ]
     },
     "metadata": {},
     "output_type": "display_data"
    }
   ],
   "source": [
    "#Safety Scores by Borough\n",
    "safety_by_borough_count = combined.groupby(\"boro\").size()\n",
    "safety_by_borough_count.rename(\"school_count\", inplace=True) # Note that count isn't necessarily the same\n",
    "safety_by_borough_data = combined.groupby(\"boro\").agg(numpy.mean).loc[:,[\"sat_score\",\"saf_s_11\",\"saf_t_11\",\"saf_p_11\"]]\n",
    "safety_by_borough = pd.concat([safety_by_borough_count,safety_by_borough_data],axis=1)\n",
    "display(safety_by_borough)"
   ]
  },
  {
   "cell_type": "markdown",
   "metadata": {},
   "source": [
    "Starting with SAT score, Staten Island has the highest average SAT for its schools, although the sample size is small. In terms of safety scores, Manhattan and Queens have the highest scores for students and teachers, although curiously for parents the Bronx has the highest safety scores. Brooklyn has the lowest score for students and teachers, while for parents Staten Island has the lowest value."
   ]
  },
  {
   "cell_type": "markdown",
   "metadata": {},
   "source": [
    "## Conclusion\n",
    "\n",
    "In this analysis, we gathered SAT score data on high schools published by the New York City Government and combined it with other school data to investigate which factors were more correlated with SAT performance than others. The topics we investigated included race, school and class size, gender, AP Test information, and safety ratings from the NYC School Survey.\n",
    "\n",
    "### Initial Interpretations\n",
    "\n",
    "In analyzing this data, the first high level information we learned was there are large disparities between high schools in the New York City system, much of which is designed. The highest scoring large schools are specialized schools that only admit students through a rigorous examination process, not simply by enrolling the students in the neighborhood. Even outside of the specialized school framework, many of the other high performing schools admit only a sliver of the students interested in their programs. Much of this is by design to ensure the most promising students are sufficiently challenged, but at the same time the system must not try and leave other students behind.\n",
    "\n",
    "The highest correlations, both positive and negative, with SAT scores that we studied were associated with the racial makeup of the students of a given high school. Disparities in outcomes for minority students are well chronicled and these data confirm that New York City was seeing these outcomes in the time period of these datasets.\n",
    "\n",
    "Perhaps the most surprising finding was that both school total enrollment and average class size were positively correlated with a school's average SAT score. For the total enrollment correlation we learned that the highest performing large schools were the highly competitive original NYC specialized schools, so it's expected that they pull the correlation upward. One hypothesis is that the highest performing schools are growing over time to meet demand so in the aggregate larger schools are performing better academically.\n",
    "\n",
    "### Future Analysis\n",
    "\n",
    "There are many potential paths for further analysis on such a rich subject matter, but we recommend a few potential projects. \n",
    "\n",
    "First, this analysis and its next steps assume that the SAT is a reasonable measure for academic success and improving SAT scores is a worthy endeavor for high schools in New York City. Over the past few years the efficacy and equality of the SAT has been called into question, so before moving forward with further analysis we should perform another round of research on whether the SAT is the proper measure to use to quantify success and whether another measure such as graduation rates, GPA, etc. would be a better focus for this work.\n",
    "\n",
    "We also see value in investigating the correlation between class size and average school SAT score further as we interpret this trend as potentially actionable for all schools across New York City, not only the specialized and magnet schools that are performing well. While it's hard to believe that a larger class size would have a causative relationship with SAT scores, we can investigate the schools that are performing well or poorly that have different class size to better understand what they may be doing differently. One potential hypothesis is that high scoring schools have increased in size over time to accommodate demand, leaving them larger on average than lower scoring schools.\n",
    "\n",
    "Last, while a numeric student safety score provides initial context for analysis and we established a positive correlation between safety and SAT scores, it is difficult to move forward with clear steps and recommendations without a more granular understanding of what safety means as it's likely different for different people. We could investigate if any other data came from the NYC school survey that helps outline what about certain schools makes students feel safe or unsafe and correlate that more detailed data with SAT outcomes."
   ]
  }
 ],
 "metadata": {
  "kernelspec": {
   "display_name": "Python 3 (ipykernel)",
   "language": "python",
   "name": "python3"
  },
  "language_info": {
   "codemirror_mode": {
    "name": "ipython",
    "version": 3
   },
   "file_extension": ".py",
   "mimetype": "text/x-python",
   "name": "python",
   "nbconvert_exporter": "python",
   "pygments_lexer": "ipython3",
   "version": "3.9.7"
  }
 },
 "nbformat": 4,
 "nbformat_minor": 2
}
